{
 "cells": [
  {
   "cell_type": "markdown",
   "id": "c4aad7cb",
   "metadata": {},
   "source": [
    "# Data Science Tools and Ecosystem"
   ]
  },
  {
   "cell_type": "markdown",
   "id": "503866f1",
   "metadata": {},
   "source": [
    "In this notebook, we will explore various tools, libraries, and languages used in the field of Data Science. The purpose is to familiarize ourselves with the foundational components of the data science ecosystem."
   ]
  },
  {
   "cell_type": "markdown",
   "id": "e0b70e23",
   "metadata": {},
   "source": [
    "## Popular Languages for Data Science\n",
    "- Python\n",
    "- R\n",
    "- SQL\n",
    "- Julia\n",
    "- Scala"
   ]
  },
  {
   "cell_type": "markdown",
   "id": "dd4ac81c",
   "metadata": {},
   "source": [
    "## Commonly Used Libraries in Data Science\n",
    "- NumPy\n",
    "- Pandas\n",
    "- Matplotlib\n",
    "- Scikit-learn\n",
    "- TensorFlow\n",
    "- ggplot2 (R)"
   ]
  },
  {
   "cell_type": "markdown",
   "id": "5f6a8fbf",
   "metadata": {},
   "source": [
    "## Table of Common Data Science Tools\n",
    "\n",
    "| Tool             | Category           | Usage                        |\n",
    "|------------------|--------------------|------------------------------|\n",
    "| Jupyter Notebook | IDE/Notebook       | Interactive code execution   |\n",
    "| RStudio          | IDE                | R development                |\n",
    "| Apache Spark     | Big Data Framework | Distributed data processing  |\n",
    "| Tableau          | Visualization Tool | Data visualization & BI      |\n",
    "| VS Code          | Code Editor        | Multi-language development   |\n"
   ]
  },
  {
   "cell_type": "markdown",
   "id": "20834b86",
   "metadata": {},
   "source": [
    "## Examples of Arithmetic Expressions\n",
    "Below are examples of how arithmetic operations like addition and multiplication are performed in Python."
   ]
  },
  {
   "cell_type": "code",
   "execution_count": null,
   "id": "bfdd04b4",
   "metadata": {},
   "outputs": [],
   "source": [
    "(3 * 4) + 5"
   ]
  },
  {
   "cell_type": "code",
   "execution_count": null,
   "id": "eb564910",
   "metadata": {},
   "outputs": [],
   "source": [
    "minutes = 200\n",
    "hours = minutes / 60\n",
    "hours"
   ]
  },
  {
   "cell_type": "markdown",
   "id": "8c116144",
   "metadata": {},
   "source": [
    "## Objectives\n",
    "- Understand different languages used in data science  \n",
    "- List commonly used libraries and tools  \n",
    "- Learn basic arithmetic operations using Python  \n",
    "- Practice working with Markdown and Code cells in Jupyter  \n",
    "- Convert units using Python code  \n"
   ]
  },
  {
   "cell_type": "markdown",
   "id": "1c092020",
   "metadata": {},
   "source": [
    "**Author**: Yuvraj Singh"
   ]
  }
 ],
 "metadata": {},
 "nbformat": 4,
 "nbformat_minor": 5
}
